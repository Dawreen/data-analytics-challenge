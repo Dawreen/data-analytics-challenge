{
 "cells": [
  {
   "cell_type": "markdown",
   "metadata": {},
   "source": [
    "## Luxembourg Real Estate Market"
   ]
  },
  {
   "cell_type": "markdown",
   "metadata": {},
   "source": [
    "There are needed 3 files:\n",
    "* Follow the workflow.\n",
    "* Report including the plots produced and a description of them.\n",
    "* Create a README if there are multiple files."
   ]
  },
  {
   "cell_type": "markdown",
   "metadata": {},
   "source": [
    "File name to send: `DANDORINIZVOREANU_StudentChallenge_2022.zip`\n",
    "email: <lu_student_challenge@pwc.com>"
   ]
  },
  {
   "cell_type": "markdown",
   "metadata": {},
   "source": [
    "### Assessment criteri\n",
    "\n",
    "As mentioned, we will not score you on the tool you have utilized nor the quality of your source file. However, the important factors to assess your answers are as follows:\n",
    "* We would like to see the steps have been done on your side.\n",
    "* That the plots that you provide in your answers are valuable.\n",
    "* The insights and the story you come up with after analyzing the data has a great impact on our assessment as well.\n",
    "* If you can provide us with any further analysis on top of the questions that are asked here, extra marks will be considered for you.\n",
    "* Readability counts! The easier it is to follow what you have done, the easier someone can verify and benefit from your insights. Bonus points are awarded for clarity.\n",
    "\n",
    "Evaluation System (100/100)\n",
    "* Data Cleaning (15/100)\n",
    "* Descriptive analytics (15/100)\n",
    "    - Data set description\n",
    "    - Rankings\n",
    "* Main Analytics (30/100)\n",
    "    - Comparisons\n",
    "    - Advanced analytics\n",
    "* Predictive Analytics (10/100)\n",
    "* Real Estate Market Insights (30/100)\n",
    "    - Median Multiple \n",
    "    - Business Insights \n",
    "* Report (readability, figures, Readme file …) (10 bonus points)"
   ]
  },
  {
   "cell_type": "markdown",
   "metadata": {},
   "source": [
    "\n",
    "## Real estate data analysis\n",
    "\n",
    "1. Download data\n",
    "2. Check types: values match type\n",
    "3. Look for the `null`. How do you treat them?\n",
    "4. Check that none of the entries are unexpectedly different.\n",
    "5. Understand which fields connect different tables, and whether you expect to see the same entry in multiple places (why/ why not?).\n",
    "6. Pay attention to different levels of aggregation, and type differences and see if you understand what they mean.\n",
    "\n",
    "## Descriptive analytics\n",
    "\n",
    "Questions to lead through descriptive analytics:\n",
    "\n",
    "### Data set description\n",
    "1. What is the size of the data and the number of observations you find in the dataset for each field? Are there any unique or unexpected values?\n",
    "2. What are the min, max, and mean of the values of each field?\n",
    "3. How does data from one table connect to another?\n",
    "\n",
    "### Rankings\n",
    "1. Which 5 **communes** have the highest/lowest prices?\n",
    "2. Which property type (existing apartments, apartments still under construction, or houses) receives the highest number of offers? Are they directly **comparable**?"
   ]
  },
  {
   "cell_type": "markdown",
   "metadata": {},
   "source": [
    "## Main Analytics\n",
    "The **sale** price refers to the price of buying a property outright, while the **rent** refers to the monthly price for renting a property.\n",
    "\n",
    "The already **constructed** apartments are those who are already finished at the time of sale while the **future** apartments are those that are still under construction at the time of sale.\n",
    "\n",
    "The **announced** price is the price at which the property has been put on offer. The **registered** price is the price for which the property has been sold.\n",
    "\n",
    "### Comparisons\n",
    "1. How do renting prices compare to buying (sale) prices for apartments?\n",
    "2. How do the constructed apartments compare to the future (VEFA) apartments?\n",
    "3. How do the announced prices compare to the registered ones?\n",
    "* In the last few years, in Luxembourg city, are people going more for apartments or houses? Is that reflected in the prices? Do apartments and houses tell a similar story?\n",
    "* Have you found any interesting points when comparing these prices and how do you explain your findings? \n",
    "\n",
    "### Advanced analytics\n",
    "1.\tShow the **growth evolution** for prices per commune. Does this differ significantly from the overall trend? Are there any outliers?\n",
    "2.\tCalculate the year on year **growth per quarter** in Luxembourg City. What are the places with the highest (percentage) growth over the whole period?"
   ]
  },
  {
   "cell_type": "markdown",
   "metadata": {},
   "source": [
    "## Predictive Analytics\n",
    "1. How do you predict the future of apartment prices in Luxembourg? Will they stay the same, rise, fall?\n"
   ]
  },
  {
   "cell_type": "markdown",
   "metadata": {},
   "source": [
    "## Real Estate Market Insights\n",
    "\n",
    "### Median Multiple \n",
    "The **median multiple** is used to indicate the affordability of housing in any given community. It is defined as the ratio of the median house price by the median annual household (disposable) income. \n",
    "\n",
    "Based on the results, you can then discuss the housing affordability rate of Luxembourg according to the housing affordability ratings detailed in the Demographia International Housing Affordability Survey 2020. \n",
    "\n",
    "\n",
    "### Business Insights\n",
    "\n",
    "How would you answer or approach these questions?\n",
    "1. What are the big trends (to buy/rent, invest in future/existing apartments) you have identified and what do you think is driving them?\n",
    "2. What are likely government responses to what you have seen here? Is that what you would recommend, if you were the government?\n",
    "3. How will the likely response(s) affect the other stakeholders?\n",
    "4. What does the future look like in Luxembourg? Is this a good time to buy an apartment, or what would you wait for?"
   ]
  }
 ],
 "metadata": {
  "language_info": {
   "name": "python"
  },
  "orig_nbformat": 4
 },
 "nbformat": 4,
 "nbformat_minor": 2
}
